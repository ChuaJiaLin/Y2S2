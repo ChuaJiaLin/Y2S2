{
  "cells": [
    {
      "cell_type": "markdown",
      "id": "21cc503e",
      "metadata": {
        "id": "21cc503e"
      },
      "source": [
        "## STUDENT INFO:\n",
        "### 1) Name : Chua Jia Lin, Tan Yi Ya, Evelyn Goh Yuan Qi\n",
        "### 2) Matric No : A23CS0069, A23CS0187, A23CS0222\n",
        "### 3) Section : 01"
      ]
    },
    {
      "cell_type": "markdown",
      "id": "4f90bc52",
      "metadata": {
        "id": "4f90bc52"
      },
      "source": [
        "\n",
        "# 🧮 Assignment 1: List, tuple, dictionary, function and File IO\n",
        "\n",
        "**Objective**: Analyze ride-sharing data from a fictional company called QuickRide using Python.\n",
        "\n",
        "**Skills Covered**:\n",
        "- File I/O\n",
        "- Data structures (lists, dicts)\n",
        "- Functions\n",
        "- Lambda expressions and sorting\n",
        "\n",
        "---\n",
        "\n",
        "### 📊 Dataset Structure\n",
        "Each row in the CSV contains:\n",
        "- `ride_id`, `driver_name`, `rider_name`, `city`, `distance`, `duration`, `fare`\n",
        "\n",
        "---\n",
        "\n",
        "### ✅ Tasks\n",
        "1. Save data to .csv file.\n",
        "2. Read and parse the data.\n",
        "3. Compute average fare by city.\n",
        "4. Generate driver summaries.\n",
        "5. Analyze ride from slice of data\n",
        "6. Use `lambda` to find top drivers\n",
        "7. Use `lambda` to find sort cities.\n",
        "8. Write a summary to a file.\n"
      ]
    },
    {
      "cell_type": "markdown",
      "id": "399d10f3",
      "metadata": {
        "id": "399d10f3"
      },
      "source": [
        "#### QUESTION 1: Save the following data in a CSV file as ```\"ride.csv\"``` using File IO (3 Marks)"
      ]
    },
    {
      "cell_type": "code",
      "execution_count": 2,
      "id": "9a9464d7",
      "metadata": {
        "colab": {
          "base_uri": "https://localhost:8080/"
        },
        "id": "9a9464d7",
        "outputId": "81b5aa3d-3565-40d5-98b9-0e3fb4916fe0"
      },
      "outputs": [
        {
          "output_type": "stream",
          "name": "stdout",
          "text": [
            "ride_id,driver_name,rider_name,city,distance,duration,fare\n",
            "R001,Ali,Karen,New York,12.5,35,23.75\n",
            "R002,Mei,John,Los Angeles,8.0,20,18.00\n",
            "R003,Ravi,Lisa,Chicago,5.3,15,12.50\n",
            "R004,Ali,James,New York,10.0,28,21.00\n",
            "R005,Mei,Sarah,Los Angeles,7.2,22,17.50\n",
            "R006,Ravi,Daniel,Chicago,6.0,18,14.00\n",
            "R007,Ali,Alice,New York,15.0,40,27.00\n",
            "R008,Sara,Mike,Boston,9.5,25,19.00\n",
            "R009,Sara,Emma,Boston,11.0,30,21.50\n",
            "R010,Ravi,David,Chicago,8.2,20,16.25\n"
          ]
        }
      ],
      "source": [
        "# Save data to an actual CSV file\n",
        "\n",
        "data_csv = \"\"\"ride_id,driver_name,rider_name,city,distance,duration,fare\n",
        "R001,Ali,Karen,New York,12.5,35,23.75\n",
        "R002,Mei,John,Los Angeles,8.0,20,18.00\n",
        "R003,Ravi,Lisa,Chicago,5.3,15,12.50\n",
        "R004,Ali,James,New York,10.0,28,21.00\n",
        "R005,Mei,Sarah,Los Angeles,7.2,22,17.50\n",
        "R006,Ravi,Daniel,Chicago,6.0,18,14.00\n",
        "R007,Ali,Alice,New York,15.0,40,27.00\n",
        "R008,Sara,Mike,Boston,9.5,25,19.00\n",
        "R009,Sara,Emma,Boston,11.0,30,21.50\n",
        "R010,Ravi,David,Chicago,8.2,20,16.25\"\"\"\n",
        "\n",
        "# Write your code to save the data into \"ride.csv\"   (3 marks)\n",
        "with open(\"ride.csv\", \"w\") as f:\n",
        "    f.write(data_csv)\n",
        "\n",
        "with open(\"ride.csv\") as f:\n",
        "  print(f.read())\n",
        "\n"
      ]
    },
    {
      "cell_type": "markdown",
      "id": "90e5fc51",
      "metadata": {
        "id": "90e5fc51"
      },
      "source": [
        "#### QUESTION 2: Read and parse data from the```\"ride.csv\"```. Complete the given code (8 marks)"
      ]
    },
    {
      "cell_type": "code",
      "execution_count": 3,
      "id": "a905e37d",
      "metadata": {
        "id": "a905e37d",
        "colab": {
          "base_uri": "https://localhost:8080/"
        },
        "outputId": "37b85ef6-e468-43f4-ce00-d3e7655d575a"
      },
      "outputs": [
        {
          "output_type": "stream",
          "name": "stdout",
          "text": [
            "{'ride_id': 'R001', 'driver_name': 'Ali', 'rider_name': 'Karen', 'city': 'New York', 'distance': '12.5', 'duration': '35', 'fare': '23.75'}\n",
            "{'ride_id': 'R002', 'driver_name': 'Mei', 'rider_name': 'John', 'city': 'Los Angeles', 'distance': '8.0', 'duration': '20', 'fare': '18.00'}\n",
            "{'ride_id': 'R003', 'driver_name': 'Ravi', 'rider_name': 'Lisa', 'city': 'Chicago', 'distance': '5.3', 'duration': '15', 'fare': '12.50'}\n",
            "{'ride_id': 'R004', 'driver_name': 'Ali', 'rider_name': 'James', 'city': 'New York', 'distance': '10.0', 'duration': '28', 'fare': '21.00'}\n",
            "{'ride_id': 'R005', 'driver_name': 'Mei', 'rider_name': 'Sarah', 'city': 'Los Angeles', 'distance': '7.2', 'duration': '22', 'fare': '17.50'}\n",
            "{'ride_id': 'R006', 'driver_name': 'Ravi', 'rider_name': 'Daniel', 'city': 'Chicago', 'distance': '6.0', 'duration': '18', 'fare': '14.00'}\n",
            "{'ride_id': 'R007', 'driver_name': 'Ali', 'rider_name': 'Alice', 'city': 'New York', 'distance': '15.0', 'duration': '40', 'fare': '27.00'}\n",
            "{'ride_id': 'R008', 'driver_name': 'Sara', 'rider_name': 'Mike', 'city': 'Boston', 'distance': '9.5', 'duration': '25', 'fare': '19.00'}\n",
            "{'ride_id': 'R009', 'driver_name': 'Sara', 'rider_name': 'Emma', 'city': 'Boston', 'distance': '11.0', 'duration': '30', 'fare': '21.50'}\n",
            "{'ride_id': 'R010', 'driver_name': 'Ravi', 'rider_name': 'David', 'city': 'Chicago', 'distance': '8.2', 'duration': '20', 'fare': '16.25'}\n"
          ]
        }
      ],
      "source": [
        "import csv\n",
        "\n",
        "def load_ride_data(filename):\n",
        "    data = []\n",
        "    with open(filename, mode='r') as file:\n",
        "        reader = csv.DictReader(file)\n",
        "        #read and parse data iteratively  (5 marks)\n",
        "\n",
        "        for row in reader:\n",
        "          data.append(row)\n",
        "\n",
        "\n",
        "    return data\n",
        "\n",
        "# Write code(s) to load data from actual CSV file (2 marks)\n",
        "file = \"ride.csv\"\n",
        "ride_data = load_ride_data(file)\n",
        "\n",
        "\n",
        "# Write code(s) to preview data (1 mark)\n",
        "for row in ride_data:\n",
        "  print(row)"
      ]
    },
    {
      "cell_type": "markdown",
      "id": "ae23d47e",
      "metadata": {
        "id": "ae23d47e"
      },
      "source": [
        "#### QUESTION 3: Define a function to compute average fare by city and call the function by passing the data (10 marks)"
      ]
    },
    {
      "cell_type": "code",
      "execution_count": 4,
      "id": "a22fd3e5",
      "metadata": {
        "id": "a22fd3e5",
        "colab": {
          "base_uri": "https://localhost:8080/"
        },
        "outputId": "3995a46e-da32-4081-8402-0a249bf92477"
      },
      "outputs": [
        {
          "output_type": "stream",
          "name": "stdout",
          "text": [
            "Average fare by city:\n",
            "New York: 23.92\n",
            "Los Angeles: 17.75\n",
            "Chicago: 14.25\n",
            "Boston: 20.25\n"
          ]
        }
      ],
      "source": [
        "# Write your function definition here to compute average fare by city (8 marks)\n",
        "def compute_average_fare_by_city(data):\n",
        "    city_fares = {}\n",
        "    city_counts = {}\n",
        "\n",
        "    for ride in data:\n",
        "        city = ride['city']\n",
        "        fare = float(ride['fare'])\n",
        "\n",
        "        if city in city_fares:\n",
        "            city_fares[city] += fare\n",
        "            city_counts[city] += 1\n",
        "        else:\n",
        "            city_fares[city] = fare\n",
        "            city_counts[city] = 1\n",
        "\n",
        "    avg_fare_by_city = {}\n",
        "    for city in city_fares:\n",
        "        avg_fare_by_city[city] = round(city_fares[city] / city_counts[city], 2)\n",
        "\n",
        "    return avg_fare_by_city\n",
        "\n",
        "# Write the code(s) to call your function and pass the data (2 marks)\n",
        "average_fares = compute_average_fare_by_city(ride_data)\n",
        "\n",
        "print(\"Average fare by city:\")\n",
        "for city, avg_fare in average_fares.items():\n",
        "    print(f\"{city}: {avg_fare}\")\n",
        "\n"
      ]
    },
    {
      "cell_type": "markdown",
      "id": "23b1b919",
      "metadata": {
        "id": "23b1b919"
      },
      "source": [
        "#### QUESTION 4: Define a function to summarize driver information, call the function by passing data ad display the summary (10 marks)\n",
        "#### ```driver_name, num_of_rides, total_distance, total_fare```"
      ]
    },
    {
      "cell_type": "code",
      "execution_count": 5,
      "id": "d094fcf6",
      "metadata": {
        "id": "d094fcf6",
        "colab": {
          "base_uri": "https://localhost:8080/"
        },
        "outputId": "204bd84b-0e98-4d8f-e679-b82e51e5976a"
      },
      "outputs": [
        {
          "output_type": "stream",
          "name": "stdout",
          "text": [
            "Ali, 3, 37.50, 71.75\n",
            "Mei, 2, 15.20, 35.50\n",
            "Ravi, 3, 19.50, 42.75\n",
            "Sara, 2, 20.50, 40.50\n"
          ]
        }
      ],
      "source": [
        "\n",
        "# Write your function definition here (7 marks)\n",
        "def summarize_drivers(data):\n",
        "    summary = {}\n",
        "\n",
        "    for ride in data:\n",
        "        driver = ride['driver_name']\n",
        "        distance = float(ride['distance'])\n",
        "        fare = float(ride['fare'])\n",
        "\n",
        "        if driver not in summary:\n",
        "            summary[driver] = {\n",
        "                'num_of_rides': 0,\n",
        "                'total_distance': 0.0,\n",
        "                'total_fare': 0.0\n",
        "            }\n",
        "\n",
        "        summary[driver]['num_of_rides'] += 1\n",
        "        summary[driver]['total_distance'] += distance\n",
        "        summary[driver]['total_fare'] += fare\n",
        "\n",
        "    return summary\n",
        "\n",
        "# Write the code(s) to call your function and pass the data (2 marks)\n",
        "\n",
        "driver_summary = summarize_drivers(ride_data)\n",
        "\n",
        "# Write the code(s) to display driver's summary (1 mark)\n",
        "for driver, stats in driver_summary.items():\n",
        "    print(f\"{driver}, {stats['num_of_rides']}, {stats['total_distance']:.2f}, {stats['total_fare']:.2f}\")"
      ]
    },
    {
      "cell_type": "markdown",
      "id": "e6cd9cec",
      "metadata": {
        "id": "e6cd9cec"
      },
      "source": [
        "#### QUESTION 5: Implement a function ```analyze_peak_slice(data, start_idx, end_idx)``` that: (10 marks)\n",
        "\n",
        "    1.Accepts the ride data list and two indices: start_idx and end_idx.\n",
        "    2.Extracts a slice of rides from start_idx = 2 to end_idx = 6 (inclusive).\n",
        "    3.Calculates and returns:\n",
        "        i)  Total number of rides in that slice\n",
        "        ii) Average fare\n",
        "        iii)List of unique drivers involved\n",
        "        \n",
        "    Sample output:\n",
        "\n",
        "   ```Total_rides: 5```<br>\n",
        "   ```Average_fare: 18.45```<br>\n",
        "   ```Drivers: Ravi, Ali, Mei```"
      ]
    },
    {
      "cell_type": "code",
      "execution_count": 6,
      "id": "31a3c863",
      "metadata": {
        "id": "31a3c863",
        "colab": {
          "base_uri": "https://localhost:8080/"
        },
        "outputId": "982be0ca-52b7-4dcc-81d7-9bc72daad87a"
      },
      "outputs": [
        {
          "output_type": "stream",
          "name": "stdout",
          "text": [
            "Total rides: 5\n",
            "Average fare: 18.40\n",
            "Drivers: Ravi, Ali, Mei\n"
          ]
        }
      ],
      "source": [
        "# Write your function definition here that accepts ride data, start index and end index, slice the list,\n",
        "# calculate and returns the values in (3)   (8 marks)\n",
        "\n",
        "def analyze_peak_slice(data, start_idx, end_idx):\n",
        "    sliced_rides = data[start_idx:end_idx + 1]\n",
        "    total_rides = len(sliced_rides)\n",
        "    total_fare = 0.0\n",
        "    drivers = set()\n",
        "\n",
        "    for ride in sliced_rides:\n",
        "        total_fare += float(ride['fare'])\n",
        "        drivers.add(ride['driver_name'])\n",
        "\n",
        "    average_fare = total_fare / total_rides if total_rides > 0 else 0\n",
        "\n",
        "    return total_rides, average_fare, list(drivers)\n",
        "\n",
        "# Write the code(s) to call your function and pass the ride data, start index and end index (2 marks)\n",
        "\n",
        "total_rides, avg_fare, unique_drivers = analyze_peak_slice(ride_data, 2, 6)\n",
        "\n",
        "print(f\"Total rides: {total_rides}\")\n",
        "print(f\"Average fare: {avg_fare:.2f}\")\n",
        "print(f\"Drivers: {', '.join(unique_drivers)}\")"
      ]
    },
    {
      "cell_type": "markdown",
      "id": "b7edc534",
      "metadata": {
        "id": "b7edc534"
      },
      "source": [
        "#### QUESTION 6: Use lambda function to find top 3 drivers by total fare (7 marks)"
      ]
    },
    {
      "cell_type": "code",
      "execution_count": 7,
      "id": "e7a1f6d9",
      "metadata": {
        "id": "e7a1f6d9",
        "colab": {
          "base_uri": "https://localhost:8080/"
        },
        "outputId": "d10dd1ed-c644-4c96-fddc-061be202bea9"
      },
      "outputs": [
        {
          "output_type": "stream",
          "name": "stdout",
          "text": [
            "Ali: Total Fare = 71.75\n",
            "Ravi: Total Fare = 42.75\n",
            "Sara: Total Fare = 40.50\n"
          ]
        }
      ],
      "source": [
        "# Write your function definition here for top 3 drivers by total fare (5 marks)\n",
        "def top_3_drivers_by_fare(summary):\n",
        "    sorted_drivers = sorted(summary.items(), key=lambda x: x[1]['total_fare'], reverse=True)\n",
        "    return sorted_drivers[:3]\n",
        "\n",
        "\n",
        "\n",
        "\n",
        "# Write the code(s) to call your function and pass the driver's summary data (2 marks)\n",
        "top_drivers = top_3_drivers_by_fare(driver_summary)\n",
        "\n",
        "for driver, stats in top_drivers:\n",
        "    print(f\"{driver}: Total Fare = {stats['total_fare']:.2f}\")\n"
      ]
    },
    {
      "cell_type": "markdown",
      "id": "afdff74e",
      "metadata": {
        "id": "afdff74e"
      },
      "source": [
        "#### QUESTION 7: Write a function to calculate average duration by cities and use lambda function to sort cities by average duration (10 marks)"
      ]
    },
    {
      "cell_type": "code",
      "execution_count": 16,
      "id": "19fb2131",
      "metadata": {
        "id": "19fb2131",
        "colab": {
          "base_uri": "https://localhost:8080/"
        },
        "outputId": "48a362a7-e8c7-424f-f3e1-01b08d2a5168"
      },
      "outputs": [
        {
          "output_type": "stream",
          "name": "stdout",
          "text": [
            "Cities sorted by average duration:\n",
            "Chicago: 17.67 minutes\n",
            "Los Angeles: 21.0 minutes\n",
            "Boston: 27.5 minutes\n",
            "New York: 34.33 minutes\n"
          ]
        }
      ],
      "source": [
        "# Write your function definition here for average duration and sort cities (8 marks)\n",
        "def average_duration_by_cities(data):\n",
        "    city_durations = {}\n",
        "    city_counts = {}\n",
        "\n",
        "    for ride in data:\n",
        "        city = ride['city']\n",
        "        duration = float(ride['duration'])\n",
        "\n",
        "        if city in city_durations:\n",
        "            city_durations[city] += duration\n",
        "            city_counts[city] += 1\n",
        "        else:\n",
        "            city_durations[city] = duration\n",
        "            city_counts[city] = 1\n",
        "\n",
        "    avg_duration_by_city = {}\n",
        "    for city in city_durations:\n",
        "        total_duration = city_durations[city]\n",
        "        ride_count = city_counts[city]\n",
        "        average = round(total_duration / ride_count, 2)\n",
        "        avg_duration_by_city[city] = average\n",
        "\n",
        "    sorted_avg_duration = sorted(avg_duration_by_city.items(), key=lambda x: x[1])\n",
        "    return sorted_avg_duration\n",
        "\n",
        "\n",
        "\n",
        "\n",
        "# Write the code(s) to call your function and pass the data (2 marks)\n",
        "sorted_durations = average_duration_by_cities(ride_data)\n",
        "\n",
        "print(\"Cities sorted by average duration:\")\n",
        "for city, avg in sorted_durations:\n",
        "    print(f\"{city}: {avg} minutes\")\n"
      ]
    },
    {
      "cell_type": "markdown",
      "id": "9631137b",
      "metadata": {
        "id": "9631137b"
      },
      "source": [
        "#### QUESTION 8: Define a function to write driver summary to a text file ```driver_summary.txt``` with the following information:\n",
        "#### ```\"Driver\", \"Total Rides\", \"Total Distance\", \"Total Fare\"```"
      ]
    },
    {
      "cell_type": "code",
      "execution_count": 65,
      "id": "0cb811f9",
      "metadata": {
        "id": "0cb811f9",
        "colab": {
          "base_uri": "https://localhost:8080/"
        },
        "outputId": "747ed593-6128-4846-ae0c-6cc8c5728fbd"
      },
      "outputs": [
        {
          "output_type": "stream",
          "name": "stdout",
          "text": [
            "Contents of driver_summary.txt:\n",
            "Driver      Total Rides    Total Distance    Total Fare  \n",
            "Ali         3              37.50             71.75       \n",
            "Mei         2              15.20             35.50       \n",
            "Ravi        3              19.50             42.75       \n",
            "Sara        2              20.50             40.50       \n",
            "\n"
          ]
        }
      ],
      "source": [
        "# Write your function definition here for writing driver summary into a text file (8 marks)\n",
        "def write_driver_summary_to_file(summary, filename=\"driver_summary.txt\"):\n",
        "    with open(filename, \"w\") as file:\n",
        "        header = f\"{'Driver':<12}{'Total Rides':<15}{'Total Distance':<18}{'Total Fare':<12}\\n\"\n",
        "        file.write(header)\n",
        "        for driver, stats in summary.items():\n",
        "            line = f\"{driver:<12}{stats['num_of_rides']:<15}{stats['total_distance']:<18.2f}{stats['total_fare']:<12.2f}\\n\"\n",
        "            file.write(line)\n",
        "\n",
        "# Write the code(s) to call your function and pass the driver summary data (2 marks)\n",
        "write_driver_summary_to_file(driver_summary)\n",
        "\n",
        "print(\"Contents of driver_summary.txt:\")\n",
        "with open(\"driver_summary.txt\", \"r\") as file:\n",
        "    print(file.read())\n"
      ]
    },
    {
      "cell_type": "code",
      "execution_count": null,
      "id": "7f865cf3",
      "metadata": {
        "id": "7f865cf3"
      },
      "outputs": [],
      "source": []
    }
  ],
  "metadata": {
    "kernelspec": {
      "display_name": "Python 3 (ipykernel)",
      "language": "python",
      "name": "python3"
    },
    "language_info": {
      "codemirror_mode": {
        "name": "ipython",
        "version": 3
      },
      "file_extension": ".py",
      "mimetype": "text/x-python",
      "name": "python",
      "nbconvert_exporter": "python",
      "pygments_lexer": "ipython3",
      "version": "3.10.11"
    },
    "colab": {
      "provenance": []
    }
  },
  "nbformat": 4,
  "nbformat_minor": 5
}